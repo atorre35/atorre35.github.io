{
  "cells": [
    {
      "cell_type": "markdown",
      "metadata": {
        "id": "view-in-github",
        "colab_type": "text"
      },
      "source": [
        "<a href=\"https://colab.research.google.com/github/atorre35/atorre35.github.io/blob/main/week1_assignment1_pandas_exercises.ipynb\" target=\"_parent\"><img src=\"https://colab.research.google.com/assets/colab-badge.svg\" alt=\"Open In Colab\"/></a>"
      ]
    },
    {
      "cell_type": "markdown",
      "id": "f494e021-727d-49fd-9be9-7caef053cd33",
      "metadata": {
        "id": "f494e021-727d-49fd-9be9-7caef053cd33"
      },
      "source": [
        "# Week 1 Assignment - Pandas exercises\n",
        "\n",
        "## Data\n",
        "\n",
        "This assignment uses 2019 flight statistics from the United States Department of Transportation’s Bureau of Transportation Statistics (available [here](https://www.transtats.bts.gov/DL_SelectFields.asp?gnoyr_VQ=FMF&QO_fu146_anzr=Nv4%20Pn44vr45) and in this repository as `data/T100_MARKET_ALL_CARRIER.zip`). Each row contains information about a specific route for a given carrier in a given month (e.g., JFK &rarr; LAX on Delta Airlines in January). There are 321,409 rows and 41 columns. Note that you don't need to unzip the file to read it in with `pd.read_csv()`.\n",
        "\n",
        "## Exercises\n",
        "\n",
        "##### 1. Read in the data and convert the column names to lowercase to make them easier to work with."
      ]
    },
    {
      "cell_type": "code",
      "execution_count": null,
      "id": "66c20c07-36c7-4035-a382-edd0d5b65f10",
      "metadata": {
        "id": "66c20c07-36c7-4035-a382-edd0d5b65f10",
        "outputId": "c94a04b2-e010-40b0-d54c-feaf532f255e",
        "colab": {
          "base_uri": "https://localhost:8080/",
          "height": 290
        }
      },
      "outputs": [
        {
          "output_type": "execute_result",
          "data": {
            "text/plain": [
              "   passengers    freight  mail  distance unique_carrier  airline_id  \\\n",
              "0         0.0    53185.0   0.0    8165.0             EK       20392   \n",
              "1         0.0     9002.0   0.0    6849.0             EK       20392   \n",
              "2         0.0  2220750.0   0.0    7247.0             EK       20392   \n",
              "3         0.0  1201490.0   0.0    8165.0             EK       20392   \n",
              "4         0.0   248642.0   0.0    6849.0             EK       20392   \n",
              "\n",
              "  unique_carrier_name unique_carrier_entity region carrier  ... dest_state_nm  \\\n",
              "0            Emirates                 9678A      I      EK  ...         Texas   \n",
              "1            Emirates                 9678A      I      EK  ...      New York   \n",
              "2            Emirates                 9678A      I      EK  ...      Illinois   \n",
              "3            Emirates                 9678A      I      EK  ...           NaN   \n",
              "4            Emirates                 9678A      I      EK  ...           NaN   \n",
              "\n",
              "   dest_country     dest_country_name  dest_wac  year  quarter month  \\\n",
              "0            US         United States        74  2019        1     3   \n",
              "1            US         United States        22  2019        1     3   \n",
              "2            US         United States        41  2019        1     3   \n",
              "3            AE  United Arab Emirates       678  2019        1     3   \n",
              "4            AE  United Arab Emirates       678  2019        1     3   \n",
              "\n",
              "  distance_group class  data_source  \n",
              "0             17     G           IF  \n",
              "1             14     G           IF  \n",
              "2             15     G           IF  \n",
              "3             17     G           IF  \n",
              "4             14     G           IF  \n",
              "\n",
              "[5 rows x 41 columns]"
            ],
            "text/html": [
              "\n",
              "  <div id=\"df-e3ba7cc1-4495-4584-b0af-c0e4b0a17513\" class=\"colab-df-container\">\n",
              "    <div>\n",
              "<style scoped>\n",
              "    .dataframe tbody tr th:only-of-type {\n",
              "        vertical-align: middle;\n",
              "    }\n",
              "\n",
              "    .dataframe tbody tr th {\n",
              "        vertical-align: top;\n",
              "    }\n",
              "\n",
              "    .dataframe thead th {\n",
              "        text-align: right;\n",
              "    }\n",
              "</style>\n",
              "<table border=\"1\" class=\"dataframe\">\n",
              "  <thead>\n",
              "    <tr style=\"text-align: right;\">\n",
              "      <th></th>\n",
              "      <th>passengers</th>\n",
              "      <th>freight</th>\n",
              "      <th>mail</th>\n",
              "      <th>distance</th>\n",
              "      <th>unique_carrier</th>\n",
              "      <th>airline_id</th>\n",
              "      <th>unique_carrier_name</th>\n",
              "      <th>unique_carrier_entity</th>\n",
              "      <th>region</th>\n",
              "      <th>carrier</th>\n",
              "      <th>...</th>\n",
              "      <th>dest_state_nm</th>\n",
              "      <th>dest_country</th>\n",
              "      <th>dest_country_name</th>\n",
              "      <th>dest_wac</th>\n",
              "      <th>year</th>\n",
              "      <th>quarter</th>\n",
              "      <th>month</th>\n",
              "      <th>distance_group</th>\n",
              "      <th>class</th>\n",
              "      <th>data_source</th>\n",
              "    </tr>\n",
              "  </thead>\n",
              "  <tbody>\n",
              "    <tr>\n",
              "      <th>0</th>\n",
              "      <td>0.0</td>\n",
              "      <td>53185.0</td>\n",
              "      <td>0.0</td>\n",
              "      <td>8165.0</td>\n",
              "      <td>EK</td>\n",
              "      <td>20392</td>\n",
              "      <td>Emirates</td>\n",
              "      <td>9678A</td>\n",
              "      <td>I</td>\n",
              "      <td>EK</td>\n",
              "      <td>...</td>\n",
              "      <td>Texas</td>\n",
              "      <td>US</td>\n",
              "      <td>United States</td>\n",
              "      <td>74</td>\n",
              "      <td>2019</td>\n",
              "      <td>1</td>\n",
              "      <td>3</td>\n",
              "      <td>17</td>\n",
              "      <td>G</td>\n",
              "      <td>IF</td>\n",
              "    </tr>\n",
              "    <tr>\n",
              "      <th>1</th>\n",
              "      <td>0.0</td>\n",
              "      <td>9002.0</td>\n",
              "      <td>0.0</td>\n",
              "      <td>6849.0</td>\n",
              "      <td>EK</td>\n",
              "      <td>20392</td>\n",
              "      <td>Emirates</td>\n",
              "      <td>9678A</td>\n",
              "      <td>I</td>\n",
              "      <td>EK</td>\n",
              "      <td>...</td>\n",
              "      <td>New York</td>\n",
              "      <td>US</td>\n",
              "      <td>United States</td>\n",
              "      <td>22</td>\n",
              "      <td>2019</td>\n",
              "      <td>1</td>\n",
              "      <td>3</td>\n",
              "      <td>14</td>\n",
              "      <td>G</td>\n",
              "      <td>IF</td>\n",
              "    </tr>\n",
              "    <tr>\n",
              "      <th>2</th>\n",
              "      <td>0.0</td>\n",
              "      <td>2220750.0</td>\n",
              "      <td>0.0</td>\n",
              "      <td>7247.0</td>\n",
              "      <td>EK</td>\n",
              "      <td>20392</td>\n",
              "      <td>Emirates</td>\n",
              "      <td>9678A</td>\n",
              "      <td>I</td>\n",
              "      <td>EK</td>\n",
              "      <td>...</td>\n",
              "      <td>Illinois</td>\n",
              "      <td>US</td>\n",
              "      <td>United States</td>\n",
              "      <td>41</td>\n",
              "      <td>2019</td>\n",
              "      <td>1</td>\n",
              "      <td>3</td>\n",
              "      <td>15</td>\n",
              "      <td>G</td>\n",
              "      <td>IF</td>\n",
              "    </tr>\n",
              "    <tr>\n",
              "      <th>3</th>\n",
              "      <td>0.0</td>\n",
              "      <td>1201490.0</td>\n",
              "      <td>0.0</td>\n",
              "      <td>8165.0</td>\n",
              "      <td>EK</td>\n",
              "      <td>20392</td>\n",
              "      <td>Emirates</td>\n",
              "      <td>9678A</td>\n",
              "      <td>I</td>\n",
              "      <td>EK</td>\n",
              "      <td>...</td>\n",
              "      <td>NaN</td>\n",
              "      <td>AE</td>\n",
              "      <td>United Arab Emirates</td>\n",
              "      <td>678</td>\n",
              "      <td>2019</td>\n",
              "      <td>1</td>\n",
              "      <td>3</td>\n",
              "      <td>17</td>\n",
              "      <td>G</td>\n",
              "      <td>IF</td>\n",
              "    </tr>\n",
              "    <tr>\n",
              "      <th>4</th>\n",
              "      <td>0.0</td>\n",
              "      <td>248642.0</td>\n",
              "      <td>0.0</td>\n",
              "      <td>6849.0</td>\n",
              "      <td>EK</td>\n",
              "      <td>20392</td>\n",
              "      <td>Emirates</td>\n",
              "      <td>9678A</td>\n",
              "      <td>I</td>\n",
              "      <td>EK</td>\n",
              "      <td>...</td>\n",
              "      <td>NaN</td>\n",
              "      <td>AE</td>\n",
              "      <td>United Arab Emirates</td>\n",
              "      <td>678</td>\n",
              "      <td>2019</td>\n",
              "      <td>1</td>\n",
              "      <td>3</td>\n",
              "      <td>14</td>\n",
              "      <td>G</td>\n",
              "      <td>IF</td>\n",
              "    </tr>\n",
              "  </tbody>\n",
              "</table>\n",
              "<p>5 rows × 41 columns</p>\n",
              "</div>\n",
              "    <div class=\"colab-df-buttons\">\n",
              "\n",
              "  <div class=\"colab-df-container\">\n",
              "    <button class=\"colab-df-convert\" onclick=\"convertToInteractive('df-e3ba7cc1-4495-4584-b0af-c0e4b0a17513')\"\n",
              "            title=\"Convert this dataframe to an interactive table.\"\n",
              "            style=\"display:none;\">\n",
              "\n",
              "  <svg xmlns=\"http://www.w3.org/2000/svg\" height=\"24px\" viewBox=\"0 -960 960 960\">\n",
              "    <path d=\"M120-120v-720h720v720H120Zm60-500h600v-160H180v160Zm220 220h160v-160H400v160Zm0 220h160v-160H400v160ZM180-400h160v-160H180v160Zm440 0h160v-160H620v160ZM180-180h160v-160H180v160Zm440 0h160v-160H620v160Z\"/>\n",
              "  </svg>\n",
              "    </button>\n",
              "\n",
              "  <style>\n",
              "    .colab-df-container {\n",
              "      display:flex;\n",
              "      gap: 12px;\n",
              "    }\n",
              "\n",
              "    .colab-df-convert {\n",
              "      background-color: #E8F0FE;\n",
              "      border: none;\n",
              "      border-radius: 50%;\n",
              "      cursor: pointer;\n",
              "      display: none;\n",
              "      fill: #1967D2;\n",
              "      height: 32px;\n",
              "      padding: 0 0 0 0;\n",
              "      width: 32px;\n",
              "    }\n",
              "\n",
              "    .colab-df-convert:hover {\n",
              "      background-color: #E2EBFA;\n",
              "      box-shadow: 0px 1px 2px rgba(60, 64, 67, 0.3), 0px 1px 3px 1px rgba(60, 64, 67, 0.15);\n",
              "      fill: #174EA6;\n",
              "    }\n",
              "\n",
              "    .colab-df-buttons div {\n",
              "      margin-bottom: 4px;\n",
              "    }\n",
              "\n",
              "    [theme=dark] .colab-df-convert {\n",
              "      background-color: #3B4455;\n",
              "      fill: #D2E3FC;\n",
              "    }\n",
              "\n",
              "    [theme=dark] .colab-df-convert:hover {\n",
              "      background-color: #434B5C;\n",
              "      box-shadow: 0px 1px 3px 1px rgba(0, 0, 0, 0.15);\n",
              "      filter: drop-shadow(0px 1px 2px rgba(0, 0, 0, 0.3));\n",
              "      fill: #FFFFFF;\n",
              "    }\n",
              "  </style>\n",
              "\n",
              "    <script>\n",
              "      const buttonEl =\n",
              "        document.querySelector('#df-e3ba7cc1-4495-4584-b0af-c0e4b0a17513 button.colab-df-convert');\n",
              "      buttonEl.style.display =\n",
              "        google.colab.kernel.accessAllowed ? 'block' : 'none';\n",
              "\n",
              "      async function convertToInteractive(key) {\n",
              "        const element = document.querySelector('#df-e3ba7cc1-4495-4584-b0af-c0e4b0a17513');\n",
              "        const dataTable =\n",
              "          await google.colab.kernel.invokeFunction('convertToInteractive',\n",
              "                                                    [key], {});\n",
              "        if (!dataTable) return;\n",
              "\n",
              "        const docLinkHtml = 'Like what you see? Visit the ' +\n",
              "          '<a target=\"_blank\" href=https://colab.research.google.com/notebooks/data_table.ipynb>data table notebook</a>'\n",
              "          + ' to learn more about interactive tables.';\n",
              "        element.innerHTML = '';\n",
              "        dataTable['output_type'] = 'display_data';\n",
              "        await google.colab.output.renderOutput(dataTable, element);\n",
              "        const docLink = document.createElement('div');\n",
              "        docLink.innerHTML = docLinkHtml;\n",
              "        element.appendChild(docLink);\n",
              "      }\n",
              "    </script>\n",
              "  </div>\n",
              "\n",
              "\n",
              "<div id=\"df-75e69a8c-a8b4-4ca8-81d2-f566901abb4e\">\n",
              "  <button class=\"colab-df-quickchart\" onclick=\"quickchart('df-75e69a8c-a8b4-4ca8-81d2-f566901abb4e')\"\n",
              "            title=\"Suggest charts.\"\n",
              "            style=\"display:none;\">\n",
              "\n",
              "<svg xmlns=\"http://www.w3.org/2000/svg\" height=\"24px\"viewBox=\"0 0 24 24\"\n",
              "     width=\"24px\">\n",
              "    <g>\n",
              "        <path d=\"M19 3H5c-1.1 0-2 .9-2 2v14c0 1.1.9 2 2 2h14c1.1 0 2-.9 2-2V5c0-1.1-.9-2-2-2zM9 17H7v-7h2v7zm4 0h-2V7h2v10zm4 0h-2v-4h2v4z\"/>\n",
              "    </g>\n",
              "</svg>\n",
              "  </button>\n",
              "\n",
              "<style>\n",
              "  .colab-df-quickchart {\n",
              "      --bg-color: #E8F0FE;\n",
              "      --fill-color: #1967D2;\n",
              "      --hover-bg-color: #E2EBFA;\n",
              "      --hover-fill-color: #174EA6;\n",
              "      --disabled-fill-color: #AAA;\n",
              "      --disabled-bg-color: #DDD;\n",
              "  }\n",
              "\n",
              "  [theme=dark] .colab-df-quickchart {\n",
              "      --bg-color: #3B4455;\n",
              "      --fill-color: #D2E3FC;\n",
              "      --hover-bg-color: #434B5C;\n",
              "      --hover-fill-color: #FFFFFF;\n",
              "      --disabled-bg-color: #3B4455;\n",
              "      --disabled-fill-color: #666;\n",
              "  }\n",
              "\n",
              "  .colab-df-quickchart {\n",
              "    background-color: var(--bg-color);\n",
              "    border: none;\n",
              "    border-radius: 50%;\n",
              "    cursor: pointer;\n",
              "    display: none;\n",
              "    fill: var(--fill-color);\n",
              "    height: 32px;\n",
              "    padding: 0;\n",
              "    width: 32px;\n",
              "  }\n",
              "\n",
              "  .colab-df-quickchart:hover {\n",
              "    background-color: var(--hover-bg-color);\n",
              "    box-shadow: 0 1px 2px rgba(60, 64, 67, 0.3), 0 1px 3px 1px rgba(60, 64, 67, 0.15);\n",
              "    fill: var(--button-hover-fill-color);\n",
              "  }\n",
              "\n",
              "  .colab-df-quickchart-complete:disabled,\n",
              "  .colab-df-quickchart-complete:disabled:hover {\n",
              "    background-color: var(--disabled-bg-color);\n",
              "    fill: var(--disabled-fill-color);\n",
              "    box-shadow: none;\n",
              "  }\n",
              "\n",
              "  .colab-df-spinner {\n",
              "    border: 2px solid var(--fill-color);\n",
              "    border-color: transparent;\n",
              "    border-bottom-color: var(--fill-color);\n",
              "    animation:\n",
              "      spin 1s steps(1) infinite;\n",
              "  }\n",
              "\n",
              "  @keyframes spin {\n",
              "    0% {\n",
              "      border-color: transparent;\n",
              "      border-bottom-color: var(--fill-color);\n",
              "      border-left-color: var(--fill-color);\n",
              "    }\n",
              "    20% {\n",
              "      border-color: transparent;\n",
              "      border-left-color: var(--fill-color);\n",
              "      border-top-color: var(--fill-color);\n",
              "    }\n",
              "    30% {\n",
              "      border-color: transparent;\n",
              "      border-left-color: var(--fill-color);\n",
              "      border-top-color: var(--fill-color);\n",
              "      border-right-color: var(--fill-color);\n",
              "    }\n",
              "    40% {\n",
              "      border-color: transparent;\n",
              "      border-right-color: var(--fill-color);\n",
              "      border-top-color: var(--fill-color);\n",
              "    }\n",
              "    60% {\n",
              "      border-color: transparent;\n",
              "      border-right-color: var(--fill-color);\n",
              "    }\n",
              "    80% {\n",
              "      border-color: transparent;\n",
              "      border-right-color: var(--fill-color);\n",
              "      border-bottom-color: var(--fill-color);\n",
              "    }\n",
              "    90% {\n",
              "      border-color: transparent;\n",
              "      border-bottom-color: var(--fill-color);\n",
              "    }\n",
              "  }\n",
              "</style>\n",
              "\n",
              "  <script>\n",
              "    async function quickchart(key) {\n",
              "      const quickchartButtonEl =\n",
              "        document.querySelector('#' + key + ' button');\n",
              "      quickchartButtonEl.disabled = true;  // To prevent multiple clicks.\n",
              "      quickchartButtonEl.classList.add('colab-df-spinner');\n",
              "      try {\n",
              "        const charts = await google.colab.kernel.invokeFunction(\n",
              "            'suggestCharts', [key], {});\n",
              "      } catch (error) {\n",
              "        console.error('Error during call to suggestCharts:', error);\n",
              "      }\n",
              "      quickchartButtonEl.classList.remove('colab-df-spinner');\n",
              "      quickchartButtonEl.classList.add('colab-df-quickchart-complete');\n",
              "    }\n",
              "    (() => {\n",
              "      let quickchartButtonEl =\n",
              "        document.querySelector('#df-75e69a8c-a8b4-4ca8-81d2-f566901abb4e button');\n",
              "      quickchartButtonEl.style.display =\n",
              "        google.colab.kernel.accessAllowed ? 'block' : 'none';\n",
              "    })();\n",
              "  </script>\n",
              "</div>\n",
              "    </div>\n",
              "  </div>\n"
            ]
          },
          "metadata": {},
          "execution_count": 1
        }
      ],
      "source": [
        "import pandas as pd\n",
        "\n",
        "stats_df = pd.read_csv('T100_MARKET_ALL_CARRIER.csv')\n",
        "stats_df.columns = stats_df.columns.str.lower()\n",
        "stats_df.head()"
      ]
    },
    {
      "cell_type": "markdown",
      "id": "7583ee63-a49a-4ee4-a997-f3f15a67e8f5",
      "metadata": {
        "id": "7583ee63-a49a-4ee4-a997-f3f15a67e8f5"
      },
      "source": [
        "##### 2. What columns are in the data?"
      ]
    },
    {
      "cell_type": "code",
      "execution_count": null,
      "id": "4b666eca-d4f7-42df-ae37-8d933c35b76f",
      "metadata": {
        "id": "4b666eca-d4f7-42df-ae37-8d933c35b76f",
        "outputId": "193e4dab-c6fa-4524-a41b-0168ec8a9633",
        "colab": {
          "base_uri": "https://localhost:8080/"
        }
      },
      "outputs": [
        {
          "output_type": "execute_result",
          "data": {
            "text/plain": [
              "Index(['passengers', 'freight', 'mail', 'distance', 'unique_carrier',\n",
              "       'airline_id', 'unique_carrier_name', 'unique_carrier_entity', 'region',\n",
              "       'carrier', 'carrier_name', 'carrier_group', 'carrier_group_new',\n",
              "       'origin_airport_id', 'origin_airport_seq_id', 'origin_city_market_id',\n",
              "       'origin', 'origin_city_name', 'origin_state_abr', 'origin_state_fips',\n",
              "       'origin_state_nm', 'origin_country', 'origin_country_name',\n",
              "       'origin_wac', 'dest_airport_id', 'dest_airport_seq_id',\n",
              "       'dest_city_market_id', 'dest', 'dest_city_name', 'dest_state_abr',\n",
              "       'dest_state_fips', 'dest_state_nm', 'dest_country', 'dest_country_name',\n",
              "       'dest_wac', 'year', 'quarter', 'month', 'distance_group', 'class',\n",
              "       'data_source'],\n",
              "      dtype='object')"
            ]
          },
          "metadata": {},
          "execution_count": 3
        }
      ],
      "source": [
        "stats_df.columns"
      ]
    },
    {
      "cell_type": "markdown",
      "id": "1b4b5dbb-9175-4f2a-88c9-0bd0b51227eb",
      "metadata": {
        "id": "1b4b5dbb-9175-4f2a-88c9-0bd0b51227eb"
      },
      "source": [
        "##### 3. How many distinct carrier names are in the dataset?"
      ]
    },
    {
      "cell_type": "code",
      "execution_count": null,
      "id": "44a7eb68-f2ff-44bd-98c6-cb2e14fecf2e",
      "metadata": {
        "id": "44a7eb68-f2ff-44bd-98c6-cb2e14fecf2e",
        "outputId": "b741f59b-4504-4866-82bb-9dc92daac572",
        "colab": {
          "base_uri": "https://localhost:8080/"
        }
      },
      "outputs": [
        {
          "output_type": "execute_result",
          "data": {
            "text/plain": [
              "318"
            ]
          },
          "metadata": {},
          "execution_count": 4
        }
      ],
      "source": [
        "len(stats_df['unique_carrier_name'].unique())\n",
        "#318 distinct carrier names"
      ]
    },
    {
      "cell_type": "markdown",
      "id": "2f4cf587-5c27-49e4-b207-c88246fa407b",
      "metadata": {
        "id": "2f4cf587-5c27-49e4-b207-c88246fa407b"
      },
      "source": [
        "##### 4. Calculate the totals of the `freight`, `mail`, and `passengers` columns for flights from the United Kingdom to the United States."
      ]
    },
    {
      "cell_type": "code",
      "execution_count": null,
      "id": "6b425e67-4c79-425a-a65e-3c9acec8caa5",
      "metadata": {
        "id": "6b425e67-4c79-425a-a65e-3c9acec8caa5",
        "outputId": "70b99b5c-0ec1-4dbb-dc3f-202ba9b1bf0a",
        "colab": {
          "base_uri": "https://localhost:8080/"
        }
      },
      "outputs": [
        {
          "output_type": "stream",
          "name": "stdout",
          "text": [
            "903296879.0\n",
            "29838395.0\n",
            "10685608.0\n"
          ]
        }
      ],
      "source": [
        "uk_to_us = stats_df.loc[(stats_df['origin_country_name'] == 'United Kingdom') & (stats_df['dest_country_name'] == 'United States')]\n",
        "totals_df = uk_to_us[['freight', 'mail', 'passengers']]\n",
        "\n",
        "print(sum(totals_df['freight'])) #freight column total is 903,296,879\n",
        "print(sum(totals_df['mail'])) #mail column total is 29,838,395\n",
        "print(sum(totals_df['passengers'])) #passengers column total is 10,685,608"
      ]
    },
    {
      "cell_type": "markdown",
      "id": "8646906c-90f1-492f-b7d1-ec8d9d5d2c4e",
      "metadata": {
        "id": "8646906c-90f1-492f-b7d1-ec8d9d5d2c4e"
      },
      "source": [
        "##### 5. Find the top 5 carriers for median route distance (i.e., for all origin-destination pairs that each carrier has, find the median distance after removing duplicates)."
      ]
    },
    {
      "cell_type": "code",
      "execution_count": null,
      "id": "77ad5f12-72f1-4d9c-8ee4-7bdd98ab4a63",
      "metadata": {
        "id": "77ad5f12-72f1-4d9c-8ee4-7bdd98ab4a63",
        "colab": {
          "base_uri": "https://localhost:8080/"
        },
        "outputId": "a461f5c5-8aa3-48fc-9bf8-65e2e31a1859"
      },
      "outputs": [
        {
          "output_type": "execute_result",
          "data": {
            "text/plain": [
              "4080.5"
            ]
          },
          "metadata": {},
          "execution_count": 44
        }
      ],
      "source": [
        "stats_df2 = stats_df\n",
        "stats_df2['origin_dest'] = (stats_df2['origin_country_name'] + ' -> ' + stats_df2['dest_country_name'])\n",
        "stats_df2[['origin_country_name', 'dest_country_name', 'origin_dest']]\n",
        "stats_df2['origin_dest'] = stats_df2['origin_dest'].drop_duplicates()\n",
        "stats_df2 = stats_df2.dropna(subset=['origin_dest'])\n",
        "stats_df2['distance'].median() #median distance after removing duplicates is 4,080.5"
      ]
    },
    {
      "cell_type": "markdown",
      "id": "14df568e-e9c5-4ff4-9ba2-5afb9e813846",
      "metadata": {
        "id": "14df568e-e9c5-4ff4-9ba2-5afb9e813846"
      },
      "source": [
        "##### 6. Find the total cargo transported (mail + freight) and mean distance traveled for the 10 carriers that transported the most cargo."
      ]
    },
    {
      "cell_type": "code",
      "execution_count": null,
      "id": "dddd7f77-aef8-4cf1-91fe-c5aab118cb46",
      "metadata": {
        "id": "dddd7f77-aef8-4cf1-91fe-c5aab118cb46",
        "colab": {
          "base_uri": "https://localhost:8080/"
        },
        "outputId": "ab4dd4b5-f2c6-4cbd-e73a-74c0a62fffc9"
      },
      "outputs": [
        {
          "output_type": "stream",
          "name": "stdout",
          "text": [
            "498734439.0\n",
            "2535.1\n"
          ]
        }
      ],
      "source": [
        "stats_df['total_cargo'] = (stats_df['freight'] + stats_df['mail'])\n",
        "top_cargo = stats_df[['freight', 'mail', 'distance', 'total_cargo']].sort_values(by='total_cargo', ascending=False).head(10)\n",
        "print(sum(top_cargo['total_cargo'])) #total carg transported for 10 carriers with most cargo is 498,734,439\n",
        "print(top_cargo['distance'].mean()) #mean distance traveled for 10 carriers with most cargo 2,535"
      ]
    },
    {
      "cell_type": "markdown",
      "id": "e13054ce-a69d-4c86-b484-ee6cad664ae3",
      "metadata": {
        "id": "e13054ce-a69d-4c86-b484-ee6cad664ae3"
      },
      "source": [
        "##### 7. Which 10 carriers flew the most passengers out of the United States to another country?"
      ]
    },
    {
      "cell_type": "code",
      "execution_count": null,
      "id": "fff4f9df-8d9c-445b-bcce-05977aa72e4e",
      "metadata": {
        "id": "fff4f9df-8d9c-445b-bcce-05977aa72e4e",
        "colab": {
          "base_uri": "https://localhost:8080/"
        },
        "outputId": "70da2152-76f1-4f25-cbac-4251918b8e17"
      },
      "outputs": [
        {
          "output_type": "stream",
          "name": "stdout",
          "text": [
            "unique_carrier_name\n",
            "American Airlines Inc.       14867653.0\n",
            "United Air Lines Inc.        14427923.0\n",
            "Delta Air Lines Inc.         13054230.0\n",
            "JetBlue Airways               4522492.0\n",
            "British Airways Plc           3758945.0\n",
            "Lufthansa German Airlines     3123611.0\n",
            "Westjet                       2626600.0\n",
            "Air Canada                    2540855.0\n",
            "Southwest Airlines Co.        2146960.0\n",
            "Virgin Atlantic Airways       2074735.0\n",
            "Name: passengers, dtype: float64\n"
          ]
        }
      ],
      "source": [
        "us_orig = stats_df.loc[(stats_df['origin_country_name'] == 'United States') & (stats_df['dest_country_name'] != 'United States')]\n",
        "top_pass = us_orig.groupby(by='unique_carrier_name')['passengers'].sum().sort_values(ascending=False)\n",
        "print(top_pass.head(10))"
      ]
    },
    {
      "cell_type": "markdown",
      "id": "c7ce2d15-42bd-48f3-9292-f0a7aeb57010",
      "metadata": {
        "id": "c7ce2d15-42bd-48f3-9292-f0a7aeb57010"
      },
      "source": [
        "##### 8. For each of the carriers found in *#7*, find the most popular destination country outside of the United States."
      ]
    },
    {
      "cell_type": "code",
      "execution_count": null,
      "id": "ee2eebe0-2384-4cf1-924c-99f1d62e481b",
      "metadata": {
        "id": "ee2eebe0-2384-4cf1-924c-99f1d62e481b",
        "colab": {
          "base_uri": "https://localhost:8080/"
        },
        "outputId": "1b366ff1-d2c0-4447-deef-7e089587644d"
      },
      "outputs": [
        {
          "output_type": "stream",
          "name": "stdout",
          "text": [
            "0    Canada\n",
            "Name: dest_country_name, dtype: object\n"
          ]
        }
      ],
      "source": [
        "top_df = top_pass.to_frame().head(10)\n",
        "carrier_list = top_df.index.tolist()\n",
        "\n",
        "top_carrier = us_orig[us_orig['unique_carrier_name'].isin(carrier_list)]\n",
        "top_carrier['dest_country_name'].mode() #most popular destination country outside of US among top carriers is Canada"
      ]
    },
    {
      "cell_type": "markdown",
      "id": "d93b58d7-38a2-48a7-b780-e4358b02d5f8",
      "metadata": {
        "id": "d93b58d7-38a2-48a7-b780-e4358b02d5f8"
      },
      "source": [
        "##### 9. For each of the carriers found in *#7*, find the total number of passengers flown on international flights to/from the destinations in *#8* or the United States. Note that this dataset only has data for flights with an origin and/or destination of the United States."
      ]
    },
    {
      "cell_type": "code",
      "execution_count": null,
      "id": "1bc598b5-4cfd-4307-bbba-5952121043dd",
      "metadata": {
        "id": "1bc598b5-4cfd-4307-bbba-5952121043dd"
      },
      "outputs": [],
      "source": []
    },
    {
      "cell_type": "markdown",
      "id": "89d9952b-5f8f-4d3c-a320-be392ea76323",
      "metadata": {
        "id": "89d9952b-5f8f-4d3c-a320-be392ea76323"
      },
      "source": [
        "##### 10. Between which two cities were the most passengers flown? Make sure to account for both directions."
      ]
    },
    {
      "cell_type": "code",
      "execution_count": null,
      "id": "00b6eda1-4591-422a-abd7-466b1e1d8128",
      "metadata": {
        "id": "00b6eda1-4591-422a-abd7-466b1e1d8128"
      },
      "outputs": [],
      "source": []
    },
    {
      "cell_type": "markdown",
      "id": "9a03d6bd-d654-49a2-9b19-ef9e422d984c",
      "metadata": {
        "id": "9a03d6bd-d654-49a2-9b19-ef9e422d984c"
      },
      "source": [
        "##### 11. Find the top 3 carriers for the pair of cities found in *#10* and calculate the percentage of passengers each accounted for."
      ]
    },
    {
      "cell_type": "code",
      "execution_count": null,
      "id": "a0e55857-ebe5-4d87-8660-dd92091580ff",
      "metadata": {
        "id": "a0e55857-ebe5-4d87-8660-dd92091580ff"
      },
      "outputs": [],
      "source": []
    },
    {
      "cell_type": "markdown",
      "id": "c4c7024c-dce5-46a3-a520-3bf6ae294bd3",
      "metadata": {
        "id": "c4c7024c-dce5-46a3-a520-3bf6ae294bd3"
      },
      "source": [
        "##### 12. Find the percentage of international travel per country using total passengers on class F flights."
      ]
    },
    {
      "cell_type": "code",
      "execution_count": null,
      "id": "40c37867-16bf-4c8c-a1a8-46968ad2959b",
      "metadata": {
        "id": "40c37867-16bf-4c8c-a1a8-46968ad2959b"
      },
      "outputs": [],
      "source": []
    },
    {
      "cell_type": "markdown",
      "id": "310d6c9c-1438-4391-aa97-a58193a9bde1",
      "metadata": {
        "id": "310d6c9c-1438-4391-aa97-a58193a9bde1"
      },
      "source": [
        "##### 13. Using a crosstab, find the percentage of total passengers on class F international flights between US cities and the countries found in *#12* that used the carriers found in *#11*."
      ]
    },
    {
      "cell_type": "code",
      "execution_count": null,
      "id": "f7e37cde-8346-4617-9942-466a969d0da8",
      "metadata": {
        "id": "f7e37cde-8346-4617-9942-466a969d0da8"
      },
      "outputs": [],
      "source": []
    },
    {
      "cell_type": "markdown",
      "id": "c11ee42e-7dee-408f-9e42-d06e85ff9b8d",
      "metadata": {
        "id": "c11ee42e-7dee-408f-9e42-d06e85ff9b8d"
      },
      "source": [
        "##### 14. Create a pivot table showing the total passengers transported between cities in the United States and other countries by the carriers identified in *#7*. Select the top 10 US cities and top 10 international countries from the result."
      ]
    },
    {
      "cell_type": "code",
      "execution_count": null,
      "id": "d88ef592-9686-4e07-bbd7-0a1429c5f2f6",
      "metadata": {
        "id": "d88ef592-9686-4e07-bbd7-0a1429c5f2f6"
      },
      "outputs": [],
      "source": []
    },
    {
      "cell_type": "markdown",
      "id": "cb7dd171-87f5-4d78-8168-cbd9e6f907f7",
      "metadata": {
        "id": "cb7dd171-87f5-4d78-8168-cbd9e6f907f7"
      },
      "source": [
        "##### 15: For the top 15 international countries, find the percentage of class F passengers traveling to/from the top 10 US cities for international travel (e.g. if only cities A, B, and C flew into Aruba, the sum of the Aruba row/column would be 1). Plot the result as a heatmap."
      ]
    },
    {
      "cell_type": "code",
      "execution_count": null,
      "id": "e4f4c4e4-e335-432a-aa8a-f50d98530ba2",
      "metadata": {
        "id": "e4f4c4e4-e335-432a-aa8a-f50d98530ba2"
      },
      "outputs": [],
      "source": []
    }
  ],
  "metadata": {
    "kernelspec": {
      "display_name": "Python 3",
      "language": "python",
      "name": "python3"
    },
    "language_info": {
      "codemirror_mode": {
        "name": "ipython",
        "version": 3
      },
      "file_extension": ".py",
      "mimetype": "text/x-python",
      "name": "python",
      "nbconvert_exporter": "python",
      "pygments_lexer": "ipython3",
      "version": "3.7.3"
    },
    "colab": {
      "provenance": [],
      "include_colab_link": true
    }
  },
  "nbformat": 4,
  "nbformat_minor": 5
}